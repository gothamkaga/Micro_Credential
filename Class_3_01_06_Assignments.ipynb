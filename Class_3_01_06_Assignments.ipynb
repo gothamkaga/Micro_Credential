{
  "nbformat": 4,
  "nbformat_minor": 0,
  "metadata": {
    "colab": {
      "name": "Class 3 01/06 - Assignments.ipynb",
      "provenance": [],
      "authorship_tag": "ABX9TyOAfRWHwLt0moOjpBpvhqUv",
      "include_colab_link": true
    },
    "kernelspec": {
      "name": "python3",
      "display_name": "Python 3"
    }
  },
  "cells": [
    {
      "cell_type": "markdown",
      "metadata": {
        "id": "view-in-github",
        "colab_type": "text"
      },
      "source": [
        "<a href=\"https://colab.research.google.com/github/gothamkaga/Micro_Credential/blob/main/Class_3_01_06_Assignments.ipynb\" target=\"_parent\"><img src=\"https://colab.research.google.com/assets/colab-badge.svg\" alt=\"Open In Colab\"/></a>"
      ]
    },
    {
      "cell_type": "markdown",
      "metadata": {
        "id": "HBE52SoXsAD4"
      },
      "source": [
        "# **Unit2_L2_Intro**"
      ]
    },
    {
      "cell_type": "markdown",
      "metadata": {
        "id": "pOJPm4lu0oBP"
      },
      "source": [
        "#1. What is Python and why is it useful?"
      ]
    },
    {
      "cell_type": "markdown",
      "metadata": {
        "id": "eUqBA3rDnS18"
      },
      "source": [
        "Python is a  high level programming language. \r\n",
        "It is very popular in machine learning, big data, etc.\r\n",
        "\r\n"
      ]
    },
    {
      "cell_type": "markdown",
      "metadata": {
        "id": "yeV00P3K0vdx"
      },
      "source": [
        "#2. Are the following variable names allowed in python?\r\n",
        "\r\n",
        "a. 1_message\r\n",
        "b. Greeting_message\r\n",
        "c. Message_1\r\n",
        "d. First name\r\n",
        "e. Full_name"
      ]
    },
    {
      "cell_type": "markdown",
      "metadata": {
        "id": "RMn40fnF0t8X"
      },
      "source": [
        "All of them"
      ]
    },
    {
      "cell_type": "markdown",
      "metadata": {
        "id": "TTLm2AHN05To"
      },
      "source": [
        "#3. Create a variable that holds the string “hello there!”"
      ]
    },
    {
      "cell_type": "code",
      "metadata": {
        "id": "JOmYjpbfoKiX"
      },
      "source": [
        "name = \"hello there!\""
      ],
      "execution_count": null,
      "outputs": []
    },
    {
      "cell_type": "markdown",
      "metadata": {
        "id": "9C1keoE-1nD8"
      },
      "source": [
        "#4. Create a variable for first name, last name and an email extension. Concatenating all three together to form an email address. For example: firstnamelastname@gmail.com"
      ]
    },
    {
      "cell_type": "code",
      "metadata": {
        "colab": {
          "base_uri": "https://localhost:8080/"
        },
        "id": "2khoDG6ZoFZM",
        "outputId": "5f823da6-6578-45c5-83b1-ccf2a1a1cb0a"
      },
      "source": [
        "first_name = 'edison'\r\n",
        "last_name = 'zhao'\r\n",
        "email_ext = 'gmail.com'\r\n",
        "print(first_name + last_name + \"@\" + email_ext)"
      ],
      "execution_count": 26,
      "outputs": [
        {
          "output_type": "stream",
          "text": [
            "edisonzhao@gmail.com\n"
          ],
          "name": "stdout"
        }
      ]
    },
    {
      "cell_type": "markdown",
      "metadata": {
        "id": "wujNOWL_oeW7"
      },
      "source": [
        "#5. Store someone you know name in a variable called name.  Print their name in lower and uppercase using a method.\r\n"
      ]
    },
    {
      "cell_type": "code",
      "metadata": {
        "colab": {
          "base_uri": "https://localhost:8080/"
        },
        "id": "T7zvN63Wn1Qk",
        "outputId": "e362ceb6-4316-4e16-8d95-0e21b762e59b"
      },
      "source": [
        "name = ['gary', 'elise', 'shen']\r\n",
        "print(name[0].upper() + ' ' + name[1].upper() + ' ' + name[2].upper())\r\n",
        "print(name[0].lower() + ' ' + name[1].lower() + ' ' + name[2].lower())"
      ],
      "execution_count": null,
      "outputs": [
        {
          "output_type": "stream",
          "text": [
            "GARY ELISE SHEN\n",
            "gary elise shen\n"
          ],
          "name": "stdout"
        }
      ]
    },
    {
      "cell_type": "markdown",
      "metadata": {
        "id": "ab0lBsAmoh1x"
      },
      "source": [
        "#6. Using a variable, ask your friend if they want to hang out on the 15th of the month.  For example, “Do you want to hang out on the 15th of this month?”  You should have to convert the number to a string."
      ]
    },
    {
      "cell_type": "code",
      "metadata": {
        "colab": {
          "base_uri": "https://localhost:8080/"
        },
        "id": "AQUO5rVXojCa",
        "outputId": "9efdd41d-01ea-4432-efa6-4fcc8bc06e48"
      },
      "source": [
        "question = 'Do you want to hang out on the 15th of this month?'\r\n",
        "print(question)"
      ],
      "execution_count": null,
      "outputs": [
        {
          "output_type": "stream",
          "text": [
            "Do you want to hang out on the 15th of this month?\n"
          ],
          "name": "stdout"
        }
      ]
    },
    {
      "cell_type": "markdown",
      "metadata": {
        "id": "y14Yl6d9r96u"
      },
      "source": [
        "# **Unit2_L3_List**"
      ]
    },
    {
      "cell_type": "markdown",
      "metadata": {
        "id": "7AieXYrks5Yq"
      },
      "source": [
        "#1. Creat a list of 5 of your favoriate tv shows\r\n"
      ]
    },
    {
      "cell_type": "code",
      "metadata": {
        "id": "pOr8IuW_tGIn"
      },
      "source": [
        "favor_tv = ['Game of Thrones', 'Black Mirror', 'Breaking Bad', 'Friends', 'The Simpsons']"
      ],
      "execution_count": null,
      "outputs": []
    },
    {
      "cell_type": "markdown",
      "metadata": {
        "id": "1Ohf8i0It41k"
      },
      "source": [
        "#2. Print the list in its original order"
      ]
    },
    {
      "cell_type": "code",
      "metadata": {
        "colab": {
          "base_uri": "https://localhost:8080/"
        },
        "id": "Y6t9FPOFuAdR",
        "outputId": "a08ad82c-5c01-4b66-ed1e-b520e8fbf759"
      },
      "source": [
        "favor_tv = ['Game of Thrones', 'Black Mirror', 'Breaking Bad', 'Friends', 'The Simpsons']\r\n",
        "print(favor_tv)"
      ],
      "execution_count": null,
      "outputs": [
        {
          "output_type": "stream",
          "text": [
            "['Game of Thrones', 'Black Mirror', 'Breaking Bad', 'Friends', 'The Simpsons']\n"
          ],
          "name": "stdout"
        }
      ]
    },
    {
      "cell_type": "markdown",
      "metadata": {
        "id": "mC2vcCOHuOpW"
      },
      "source": [
        "#3. Use the sorted()function to print the list in alphabetical order.  How is sorted() different from sort()?\r\n"
      ]
    },
    {
      "cell_type": "code",
      "metadata": {
        "colab": {
          "base_uri": "https://localhost:8080/"
        },
        "id": "BpvQM24LugDL",
        "outputId": "a3acdb03-652f-47d4-8459-afba73490d83"
      },
      "source": [
        "print(sorted(favor_tv))"
      ],
      "execution_count": null,
      "outputs": [
        {
          "output_type": "stream",
          "text": [
            "['Black Mirror', 'Breaking Bad', 'Friends', 'Game of Thrones', 'The Simpsons']\n"
          ],
          "name": "stdout"
        }
      ]
    },
    {
      "cell_type": "markdown",
      "metadata": {
        "id": "CN7PqtC0uhdk"
      },
      "source": [
        "#4. Print out your original list."
      ]
    },
    {
      "cell_type": "code",
      "metadata": {
        "colab": {
          "base_uri": "https://localhost:8080/"
        },
        "id": "XOZVzhXtun9k",
        "outputId": "80dd3f05-24fe-4b14-bd0d-f7430ee818b8"
      },
      "source": [
        "print(favor_tv)"
      ],
      "execution_count": null,
      "outputs": [
        {
          "output_type": "stream",
          "text": [
            "['Game of Thrones', 'Black Mirror', 'Breaking Bad', 'Friends', 'The Simpsons']\n"
          ],
          "name": "stdout"
        }
      ]
    },
    {
      "cell_type": "markdown",
      "metadata": {
        "id": "OOw3D_Z-uoZG"
      },
      "source": [
        "#5. Used sorted() to print your list in reverse alphabetical order."
      ]
    },
    {
      "cell_type": "code",
      "metadata": {
        "colab": {
          "base_uri": "https://localhost:8080/"
        },
        "id": "5wXRbxzCuuEt",
        "outputId": "7269533f-cc17-4948-fa47-f177c020d349"
      },
      "source": [
        "favor_tv.sort(reverse=True)\r\n",
        "print(favor_tv)"
      ],
      "execution_count": null,
      "outputs": [
        {
          "output_type": "stream",
          "text": [
            "['The Simpsons', 'Game of Thrones', 'Friends', 'Breaking Bad', 'Black Mirror']\n"
          ],
          "name": "stdout"
        }
      ]
    },
    {
      "cell_type": "markdown",
      "metadata": {
        "id": "HXWdDljcuudA"
      },
      "source": [
        "#6. Create a message indicating how many favorite TV shows you have – use the len() function.\r\n"
      ]
    },
    {
      "cell_type": "code",
      "metadata": {
        "colab": {
          "base_uri": "https://localhost:8080/"
        },
        "id": "oEQQIAbuuzpO",
        "outputId": "5110de77-88db-4619-9b93-4f058f16c8eb"
      },
      "source": [
        "print('The number of favorite tv shows is: ', len(favor_tv))"
      ],
      "execution_count": null,
      "outputs": [
        {
          "output_type": "stream",
          "text": [
            "The number of favorite tv shows is:  5\n"
          ],
          "name": "stdout"
        }
      ]
    }
  ]
}